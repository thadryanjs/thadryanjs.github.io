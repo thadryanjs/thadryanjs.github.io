{
 "cells": [
  {
   "attachments": {},
   "cell_type": "markdown",
   "metadata": {},
   "source": [
    "---\n",
    "title: A handshake with Scala\n",
    "date: 2018-07-20\n",
    "---"
   ]
  },
  {
   "attachments": {},
   "cell_type": "markdown",
   "metadata": {},
   "source": [
    "Scala is a JVM language that seeks to marry functional and object-oriented programming styles. It was was Designed by Martin Odersky and first appeared in 2004. While I think many projects that aspire to \"best of both worlds\" status end up ugly and chimeric, my explorations with Scala have revealed a really thoughtful and lovely creation that elegantly merges different paradigms. While it isn't one of the top-tier languages for for production code job hunting (think Java, C++, Python, JavaScript, etc), it made the GitHub top 15 list for most common languages recently. I suspect much of this is because it's becoming popular as a language for data science as a happy medium language between the breezy-to-write-but-relatively-slow Python and the incumbent production veteran Java that is faster but comes with a notoriously verbose syntax (still very much worth learning though!). Scala aims to be approachable and quick to develop as well as fast (some tests show it performing at Java speed or better), thus avoiding the need to \"productionize\" slower, exploratory code if a project grows (The name \"Scala\" is a shortening of the \"Scalable Language\", after all). Nobody is going to be putting Java out of business any time soon (just ask the flashier start-up favorite Ruby, but Scala joins Python, Java, and R as a helpful tool for data and general purpose coding. After spending a good amount of time with the Scala home page, \"Scala for the Impatient\"by Cay S. Horstmann, and Bruce Eckel's classic \"Thinking in Java\", I opted to create an overview for my own edification and for some people I know who are newcomers to the language. Happy Hacking."
   ]
  },
  {
   "cell_type": "code",
   "execution_count": 54,
   "metadata": {},
   "outputs": [
    {
     "data": {
      "text/plain": [
       "defined \u001b[32mobject\u001b[39m \u001b[36mhelloWorld\u001b[39m"
      ]
     },
     "execution_count": 54,
     "metadata": {},
     "output_type": "execute_result"
    }
   ],
   "source": [
    "// hello world in Scala \n",
    "object helloWorld {\n",
    "    def main(args: Array[String]): Unit = {\n",
    "        println(\"Hello World\")       \n",
    "    }\n",
    "}"
   ]
  },
  {
   "attachments": {},
   "cell_type": "markdown",
   "metadata": {},
   "source": [
    "In Scala, a program takes place in a \"singleton object\". This is an object of which only one iteration can exist. This is slightly different than Java, where it would be written as \"class helloWorld {\".\n",
    "\n",
    "Next we see a \"main\" method defined like in Java. Also like Java, this function takes an Array of Strings as an argument ( args: Array[String]) ). The more unusual part is \"Unit\". This is the Scala's version of \"void\", which means that the function doesn't return anything (it just executes the code inside it).\n",
    "\n",
    "After that, there is a println() call that will look familiar to Java coders that prints the message.\n",
    "\n",
    "Because we are using a notebook, we can write snippets of code outside an object like this, but keep in mind if we were writing a program in a more typical format it would need to be inside that object.\n",
    "\n",
    "From now on, we can just write:"
   ]
  },
  {
   "cell_type": "code",
   "execution_count": 55,
   "metadata": {},
   "outputs": [
    {
     "name": "stdout",
     "output_type": "stream",
     "text": [
      "Hello World\n"
     ]
    }
   ],
   "source": [
    "println(\"Hello World\")"
   ]
  },
  {
   "attachments": {},
   "cell_type": "markdown",
   "metadata": {},
   "source": [
    "## Declaration\n",
    "\n",
    "In Scala, variables are declared as \"Val\" or \"Var\", for \"Value\" or \"Variable\". A item declared as a \"Val\" cannot be changed (it is said to be \"immutable\", where as a \"Var\" can (it is \"mutable\"). This a key part of Scala's functional programming background."
   ]
  },
  {
   "cell_type": "code",
   "execution_count": 56,
   "metadata": {},
   "outputs": [
    {
     "data": {
      "text/html": [
       "<div class=\"jp-RenderedText\">\n",
       "<pre><code><span style=\"color: rgb(0, 187, 187)\"><span class=\"ansi-cyan-fg\">x</span></span>: <span style=\"color: rgb(0, 187, 0)\"><span class=\"ansi-green-fg\">Int</span></span> = <span style=\"color: rgb(0, 187, 0)\"><span class=\"ansi-green-fg\">1</span></span>\n",
       "<span style=\"color: rgb(0, 187, 187)\"><span class=\"ansi-cyan-fg\">y</span></span>: <span style=\"color: rgb(0, 187, 0)\"><span class=\"ansi-green-fg\">Int</span></span> = <span style=\"color: rgb(0, 187, 0)\"><span class=\"ansi-green-fg\">2</span></span></code></pre>\n",
       "</div>"
      ],
      "text/plain": [
       "\u001b[36mx\u001b[39m: \u001b[32mInt\u001b[39m = \u001b[32m1\u001b[39m\n",
       "\u001b[36my\u001b[39m: \u001b[32mInt\u001b[39m = \u001b[32m2\u001b[39m"
      ]
     },
     "metadata": {},
     "output_type": "display_data"
    }
   ],
   "source": [
    "// mutable \n",
    "var x = 1\n",
    "\n",
    "// immutable \n",
    "val y = 2"
   ]
  },
  {
   "cell_type": "markdown",
   "metadata": {},
   "source": [
    "This means we could change x but we could not change y:"
   ]
  },
  {
   "cell_type": "code",
   "execution_count": 57,
   "metadata": {},
   "outputs": [
    {
     "name": "stdout",
     "output_type": "stream",
     "text": [
      "2\n"
     ]
    }
   ],
   "source": [
    "// this is perfectly legal \n",
    "x = x + 1\n",
    "println(x)\n",
    "\n",
    "// this would kick a \"reassignment to val\" error \n",
    "// y = y + 1"
   ]
  },
  {
   "cell_type": "markdown",
   "metadata": {},
   "source": [
    "The next line of code demonstrates that Scala's type declarations are \"backwards\" compared to more traditional languages. Scala would say \"val age: Int = 10\" not \"Int age = 10\". According to Cay S. Horstmann, the author or \"Scala for the Impatient\", this makes it easier to read the code when large, complicated functions are used. While this isn't typical, Scala's designers aren't the only ones who think so:\n",
    "\n",
    "https://blog.golang.org/gos-declaration-syntax\n",
    "\n",
    "It takes a bit of getting used to but is not a huge deal, and the clarity pays off later. I think of this as the programming equivalent of Romance languages that say \"The dress red\" instead of \"The red dress\"."
   ]
  },
  {
   "cell_type": "code",
   "execution_count": 58,
   "metadata": {},
   "outputs": [
    {
     "data": {
      "text/plain": [
       "\u001b[36mnameDeclared\u001b[39m: \u001b[32mString\u001b[39m = \u001b[32m\"Charli Declared\"\u001b[39m"
      ]
     },
     "execution_count": 58,
     "metadata": {},
     "output_type": "execute_result"
    }
   ],
   "source": [
    "val nameDeclared: String = \"Charli Declared\" // not \"val String: name = \"Charli\""
   ]
  },
  {
   "cell_type": "markdown",
   "metadata": {},
   "source": [
    "Also, Scala has type inference, so we could use this shorthand:"
   ]
  },
  {
   "cell_type": "code",
   "execution_count": 59,
   "metadata": {},
   "outputs": [
    {
     "name": "stdout",
     "output_type": "stream",
     "text": [
      "Charli Declared Charli Infered\n"
     ]
    },
    {
     "data": {
      "text/plain": [
       "\u001b[36mnameInffered\u001b[39m: \u001b[32mString\u001b[39m = \u001b[32m\"Charli Infered\"\u001b[39m"
      ]
     },
     "execution_count": 59,
     "metadata": {},
     "output_type": "execute_result"
    }
   ],
   "source": [
    "// no type declaration\n",
    "val nameInferred = \"Charli Inferred\"\n",
    "println(nameDeclared + \" \" + nameInferred)"
   ]
  },
  {
   "cell_type": "markdown",
   "metadata": {},
   "source": [
    "## Types\n",
    "\n",
    "Given it's descent from Java and it's intent to build large systems securely, Scala uses strong, static typing."
   ]
  },
  {
   "cell_type": "code",
   "execution_count": 60,
   "metadata": {},
   "outputs": [
    {
     "data": {
      "text/plain": [
       "\u001b[36mwholeNumber\u001b[39m: \u001b[32mInt\u001b[39m = \u001b[32m10\u001b[39m\n",
       "\u001b[36mdecimalNumber\u001b[39m: \u001b[32mDouble\u001b[39m = \u001b[32m10.1\u001b[39m\n",
       "\u001b[36mfloatDecimalNumber\u001b[39m: \u001b[32mFloat\u001b[39m = \u001b[32m10.1F\u001b[39m\n",
       "\u001b[36mbigNumber\u001b[39m: \u001b[32mLong\u001b[39m = \u001b[32m100000000L\u001b[39m\n",
       "\u001b[36mstring\u001b[39m: \u001b[32mString\u001b[39m = \u001b[32m\"Heya\"\u001b[39m\n",
       "\u001b[36maLetter\u001b[39m: \u001b[32mChar\u001b[39m = \u001b[32m'A'\u001b[39m\n",
       "\u001b[36manswer\u001b[39m: \u001b[32mBoolean\u001b[39m = true\n",
       "\u001b[36mdoubleOverridesInt\u001b[39m: \u001b[32mDouble\u001b[39m = \u001b[32m20.1\u001b[39m"
      ]
     },
     "execution_count": 60,
     "metadata": {},
     "output_type": "execute_result"
    }
   ],
   "source": [
    "val wholeNumber: Int = 10\n",
    "\n",
    "val decimalNumber: Double = 10.1\n",
    "\n",
    "// specify float \n",
    "val floatDecimalNumber: Float = 10.1f\n",
    "\n",
    "val bigNumber: Long = 100000000\n",
    "\n",
    "// note double quotes \n",
    "val string: String = \"Heya\"\n",
    "\n",
    "// note single quotes \n",
    "val aLetter: Char = 'A'\n",
    "\n",
    "val answer: Boolean = true\n",
    "\n",
    "// will be convere\n",
    "val doubleOverridesInt = wholeNumber + decimalNumber"
   ]
  },
  {
   "cell_type": "markdown",
   "metadata": {},
   "source": [
    "Scala types are built as classes, so it offers some convenience methods for conversion:\n",
    "\n"
   ]
  },
  {
   "cell_type": "code",
   "execution_count": 61,
   "metadata": {},
   "outputs": [
    {
     "data": {
      "text/plain": [
       "\u001b[36mres60\u001b[39m: \u001b[32mString\u001b[39m = \u001b[32m\"100\"\u001b[39m"
      ]
     },
     "execution_count": 61,
     "metadata": {},
     "output_type": "execute_result"
    }
   ],
   "source": [
    "100.toString"
   ]
  },
  {
   "cell_type": "markdown",
   "metadata": {},
   "source": [
    "## Arithmetic Operators"
   ]
  },
  {
   "cell_type": "markdown",
   "metadata": {},
   "source": [
    "Arithmetic operators are fairly traditional in Scala:\n",
    "\n",
    "Exponents are handled via Scala's math library."
   ]
  },
  {
   "cell_type": "code",
   "execution_count": 62,
   "metadata": {},
   "outputs": [
    {
     "data": {
      "text/html": [
       "<div class=\"jp-RenderedText\">\n",
       "<pre><code><span style=\"color: rgb(0, 187, 187)\"><span class=\"ansi-cyan-fg\">x</span></span>: <span style=\"color: rgb(0, 187, 0)\"><span class=\"ansi-green-fg\">Int</span></span> = <span style=\"color: rgb(0, 187, 0)\"><span class=\"ansi-green-fg\">10</span></span>\n",
       "<span style=\"color: rgb(0, 187, 187)\"><span class=\"ansi-cyan-fg\">res61_1</span></span>: <span style=\"color: rgb(0, 187, 0)\"><span class=\"ansi-green-fg\">Double</span></span> = <span style=\"color: rgb(0, 187, 0)\"><span class=\"ansi-green-fg\">100.0</span></span></code></pre>\n",
       "</div>"
      ],
      "text/plain": [
       "\u001b[36mx\u001b[39m: \u001b[32mInt\u001b[39m = \u001b[32m10\u001b[39m\n",
       "\u001b[36mres61_1\u001b[39m: \u001b[32mDouble\u001b[39m = \u001b[32m100.0\u001b[39m"
      ]
     },
     "metadata": {},
     "output_type": "display_data"
    }
   ],
   "source": [
    "var x: Int = 10\n",
    "\n",
    "// call the power function from 'math'\n",
    "scala.math.pow(x,2)"
   ]
  },
  {
   "cell_type": "markdown",
   "metadata": {},
   "source": [
    "## Strings + Iteration\n",
    "Let's look at some simple string manipulations."
   ]
  },
  {
   "cell_type": "code",
   "execution_count": 63,
   "metadata": {},
   "outputs": [
    {
     "name": "stdout",
     "output_type": "stream",
     "text": [
      "J\n"
     ]
    },
    {
     "data": {
      "text/plain": [
       "\u001b[36mname\u001b[39m: \u001b[32mString\u001b[39m = \u001b[32m\"Jade\"\u001b[39m"
      ]
     },
     "execution_count": 63,
     "metadata": {},
     "output_type": "execute_result"
    }
   ],
   "source": [
    "val name: String = \"Jade\"\n",
    "\n",
    "// println at an index\n",
    "println(name(0))"
   ]
  },
  {
   "cell_type": "markdown",
   "metadata": {},
   "source": [
    "Note that the () is used, not the traditional []. This is due to Scala's functional outlook, looking at the String as a function that maps an element to the String location of that element.\n",
    "\n",
    "Let's change the case. Notice there are no () at the end of this method calls. If the method has parenthesis, they are optional if arguments are not being passed (if the method is declared with no parenthesis, however, you must follow suit)."
   ]
  },
  {
   "cell_type": "code",
   "execution_count": 64,
   "metadata": {},
   "outputs": [
    {
     "data": {
      "text/plain": [
       "\u001b[36mres63_0\u001b[39m: \u001b[32mString\u001b[39m = \u001b[32m\"JADE\"\u001b[39m\n",
       "\u001b[36mres63_1\u001b[39m: \u001b[32mString\u001b[39m = \u001b[32m\"jade\"\u001b[39m"
      ]
     },
     "execution_count": 64,
     "metadata": {},
     "output_type": "execute_result"
    }
   ],
   "source": [
    "// change to upper case\n",
    "name.toUpperCase\n",
    "\n",
    "// to lower \n",
    "name.toLowerCase()"
   ]
  },
  {
   "cell_type": "markdown",
   "metadata": {},
   "source": [
    "Iterating over a string reveals some interesting traits of Scala. The String class has a \"foreach\" method, which, paired with the \"default variable\" and a bit of syntax, allows for iteration."
   ]
  },
  {
   "cell_type": "code",
   "execution_count": 65,
   "metadata": {},
   "outputs": [
    {
     "name": "stdout",
     "output_type": "stream",
     "text": [
      "J\n",
      "a\n",
      "d\n",
      "e\n"
     ]
    }
   ],
   "source": [
    "// foreach is a method of the String name \n",
    "name.foreach{ letter =>\n",
    "    println(letter)\n",
    "}"
   ]
  },
  {
   "cell_type": "markdown",
   "metadata": {},
   "source": [
    "We can also use and index. It has an R-like arrow assignment to the i, and then an obvious, English-like syntax for \"0 until the end of the length\" of the name."
   ]
  },
  {
   "cell_type": "code",
   "execution_count": 66,
   "metadata": {},
   "outputs": [
    {
     "name": "stdout",
     "output_type": "stream",
     "text": [
      "Letter at index 0 is J\n",
      "Letter at index 1 is a\n",
      "Letter at index 2 is d\n",
      "Letter at index 3 is e\n"
     ]
    }
   ],
   "source": [
    "// for i in until the end of the length \n",
    "for(i <- 0 until name.length) {\n",
    "    println(\"Letter at index \" + i + \" is \" + name(i))\n",
    "}"
   ]
  },
  {
   "cell_type": "markdown",
   "metadata": {},
   "source": [
    "We can also use and index. It has an R-like arrow assignment to the i, and then an obvious, English-like syntax for \"0 until the end of the length\" of the name."
   ]
  },
  {
   "cell_type": "code",
   "execution_count": 67,
   "metadata": {},
   "outputs": [
    {
     "name": "stdout",
     "output_type": "stream",
     "text": [
      "J\n",
      "a\n",
      "d\n",
      "e\n"
     ]
    }
   ],
   "source": [
    "for(i <- name.indices) {\n",
    "    println(name(i))\n",
    "}"
   ]
  },
  {
   "cell_type": "markdown",
   "metadata": {},
   "source": [
    "In Scala 2.1+ you can interpolate strings with the s + $ syntax"
   ]
  },
  {
   "cell_type": "code",
   "execution_count": 68,
   "metadata": {},
   "outputs": [
    {
     "name": "stdout",
     "output_type": "stream",
     "text": [
      "Hello there, my name is Jade\n"
     ]
    }
   ],
   "source": [
    "println(s\"Hello there, my name is $name\")"
   ]
  },
  {
   "cell_type": "markdown",
   "metadata": {},
   "source": [
    "This also works with floats, using a C-style syntax specifying the number of decimals:"
   ]
  },
  {
   "cell_type": "code",
   "execution_count": 69,
   "metadata": {},
   "outputs": [
    {
     "name": "stdout",
     "output_type": "stream",
     "text": [
      "height: 1.50000\n"
     ]
    },
    {
     "data": {
      "text/plain": [
       "\u001b[36mheight\u001b[39m: \u001b[32mDouble\u001b[39m = \u001b[32m1.5\u001b[39m"
      ]
     },
     "execution_count": 69,
     "metadata": {},
     "output_type": "execute_result"
    }
   ],
   "source": [
    "val height: Double = 1.5\n",
    "\n",
    "// note the f\n",
    "println(f\"height: $height%.5f\")"
   ]
  },
  {
   "cell_type": "markdown",
   "metadata": {},
   "source": [
    "## Arrays\n",
    "\n",
    "Scala arrays are traditional in tha they are static; once you declare one to be a certain length, it can't be changed. Interestingly, the individual elements of the array can be change:"
   ]
  },
  {
   "cell_type": "code",
   "execution_count": 70,
   "metadata": {},
   "outputs": [
    {
     "name": "stdout",
     "output_type": "stream",
     "text": [
      "10\n",
      "2\n",
      "4\n",
      "6\n",
      "8\n",
      "10\n"
     ]
    },
    {
     "data": {
      "text/plain": [
       "\u001b[36mnumbers\u001b[39m: \u001b[32mArray\u001b[39m[\u001b[32mInt\u001b[39m] = \u001b[33mArray\u001b[39m(\u001b[32m2\u001b[39m, \u001b[32m2\u001b[39m, \u001b[32m6\u001b[39m, \u001b[32m8\u001b[39m, \u001b[32m10\u001b[39m)"
      ]
     },
     "execution_count": 70,
     "metadata": {},
     "output_type": "execute_result"
    }
   ],
   "source": [
    "// declare and array - this uses type inference\n",
    "val numbers = Array(2,4,6,8,10)\n",
    "\n",
    "// could also be\n",
    "// val numbers: Array[Int] = Array(2,4,6,8,10)\n",
    "\n",
    "// access it by index (starting at 0)\n",
    "println(numbers(4))\n",
    "\n",
    "// it also has the foreach method\n",
    "numbers.foreach { number =>\n",
    "    println(number)\n",
    "}\n",
    "\n",
    "// update by index \n",
    "numbers(1) = 2"
   ]
  },
  {
   "cell_type": "markdown",
   "metadata": {},
   "source": [
    "The Array class has the basic methods you might expect:"
   ]
  },
  {
   "cell_type": "code",
   "execution_count": 71,
   "metadata": {},
   "outputs": [
    {
     "data": {
      "text/plain": [
       "\u001b[36mres70_0\u001b[39m: \u001b[32mInt\u001b[39m = \u001b[32m28\u001b[39m\n",
       "\u001b[36mres70_1\u001b[39m: \u001b[32mInt\u001b[39m = \u001b[32m2\u001b[39m\n",
       "\u001b[36mres70_2\u001b[39m: \u001b[32mInt\u001b[39m = \u001b[32m10\u001b[39m"
      ]
     },
     "execution_count": 71,
     "metadata": {},
     "output_type": "execute_result"
    }
   ],
   "source": [
    "numbers.sum\n",
    "numbers.min\n",
    "numbers.max"
   ]
  },
  {
   "cell_type": "markdown",
   "metadata": {},
   "source": [
    "## Mapping Arrays\n",
    "\n",
    "Given Scala's functional heritage, it's common to see map function used to transform data structures."
   ]
  },
  {
   "cell_type": "code",
   "execution_count": 72,
   "metadata": {},
   "outputs": [
    {
     "data": {
      "text/plain": [
       "\u001b[36mnumbers\u001b[39m: \u001b[32mArray\u001b[39m[\u001b[32mInt\u001b[39m] = \u001b[33mArray\u001b[39m(\u001b[32m3\u001b[39m, \u001b[32m6\u001b[39m, \u001b[32m9\u001b[39m, \u001b[32m12\u001b[39m, \u001b[32m15\u001b[39m)\n",
       "\u001b[36mdoubledNumbers\u001b[39m: \u001b[32mArray\u001b[39m[\u001b[32mInt\u001b[39m] = \u001b[33mArray\u001b[39m(\u001b[32m6\u001b[39m, \u001b[32m12\u001b[39m, \u001b[32m18\u001b[39m, \u001b[32m24\u001b[39m, \u001b[32m30\u001b[39m)"
      ]
     },
     "execution_count": 72,
     "metadata": {},
     "output_type": "execute_result"
    }
   ],
   "source": [
    "// declare an array\n",
    "val numbers: Array[Int] = Array(3,6,9,12,15)\n",
    "\n",
    "// map each \"x\" in the list to \"x * 2\" \n",
    "val doubledNumbers = numbers.map(x => x * 2)"
   ]
  },
  {
   "cell_type": "markdown",
   "metadata": {},
   "source": [
    "You might be wondering if we can add conditionals to this basic idea to get generators or comprehensions. You bet, using yield."
   ]
  },
  {
   "cell_type": "code",
   "execution_count": 73,
   "metadata": {},
   "outputs": [
    {
     "data": {
      "text/plain": [
       "\u001b[36mnumbers\u001b[39m: \u001b[32mArray\u001b[39m[\u001b[32mInt\u001b[39m] = \u001b[33mArray\u001b[39m(\u001b[32m5\u001b[39m, \u001b[32m10\u001b[39m, \u001b[32m15\u001b[39m, \u001b[32m20\u001b[39m, \u001b[32m25\u001b[39m, \u001b[32m30\u001b[39m)\n",
       "\u001b[36mover15\u001b[39m: \u001b[32mArray\u001b[39m[\u001b[32mInt\u001b[39m] = \u001b[33mArray\u001b[39m(\u001b[32m20\u001b[39m, \u001b[32m25\u001b[39m, \u001b[32m30\u001b[39m)"
      ]
     },
     "execution_count": 73,
     "metadata": {},
     "output_type": "execute_result"
    }
   ],
   "source": [
    "// create a new array\n",
    "val numbers = Array(5,10,15,20,25,30)\n",
    "\n",
    "// conditional in parenthesis if \n",
    "val over15 = for(element <- numbers if element > 15) yield element"
   ]
  },
  {
   "cell_type": "markdown",
   "metadata": {},
   "source": [
    "## Dynamic Arrays\n",
    "\n",
    "What about a dynamic array? Scala's standard library provides a Java-like ArrayBuffer:"
   ]
  },
  {
   "cell_type": "code",
   "execution_count": 74,
   "metadata": {},
   "outputs": [
    {
     "name": "stdout",
     "output_type": "stream",
     "text": [
      "0\n",
      "5\n"
     ]
    },
    {
     "data": {
      "text/plain": [
       "\u001b[32mimport \u001b[39m\u001b[36mscala.collection.mutable.ArrayBuffer  \n",
       "\n",
       "// declare one, empty \n",
       "\u001b[39m\n",
       "\u001b[36mdynamic\u001b[39m: \u001b[32mArrayBuffer\u001b[39m[\u001b[32mInt\u001b[39m] = \u001b[33mArrayBuffer\u001b[39m(\u001b[32m2\u001b[39m, \u001b[32m4\u001b[39m, \u001b[32m6\u001b[39m, \u001b[32m8\u001b[39m, \u001b[32m10\u001b[39m)"
      ]
     },
     "execution_count": 74,
     "metadata": {},
     "output_type": "execute_result"
    }
   ],
   "source": [
    "// import the data structure \n",
    "import scala.collection.mutable.ArrayBuffer  \n",
    "\n",
    "// declare one, empty \n",
    "val dynamic = ArrayBuffer[Int]()\n",
    "\n",
    "println(dynamic.length)\n",
    "\n",
    "// note handy \"by\" option letting us count by \"2\"\n",
    "for(i <- 2 to 10 by 2) {\n",
    "    dynamic += i\n",
    "}\n",
    "println(dynamic.length)"
   ]
  },
  {
   "cell_type": "markdown",
   "metadata": {},
   "source": [
    "Generally speaking, Scala is very syntactically consistent; the basic methods have the same names as the regular array:"
   ]
  },
  {
   "cell_type": "code",
   "execution_count": 75,
   "metadata": {},
   "outputs": [
    {
     "data": {
      "text/plain": [
       "\u001b[36mres74_0\u001b[39m: \u001b[32mInt\u001b[39m = \u001b[32m30\u001b[39m\n",
       "\u001b[36mres74_1\u001b[39m: \u001b[32mInt\u001b[39m = \u001b[32m2\u001b[39m\n",
       "\u001b[36mres74_2\u001b[39m: \u001b[32mInt\u001b[39m = \u001b[32m10\u001b[39m"
      ]
     },
     "execution_count": 75,
     "metadata": {},
     "output_type": "execute_result"
    }
   ],
   "source": [
    "\n",
    "dynamic.sum\n",
    "dynamic.min\n",
    "dynamic.max"
   ]
  },
  {
   "cell_type": "markdown",
   "metadata": {},
   "source": [
    "## Logic, Comparisons, and Control Flow\n",
    "The control flow in Scala is traditional and straightforward, strongly resembling and C-family language. The comparison operators will also seem familiar."
   ]
  },
  {
   "cell_type": "code",
   "execution_count": 76,
   "metadata": {},
   "outputs": [
    {
     "name": "stdout",
     "output_type": "stream",
     "text": [
      "The number is odd\n",
      "The number is even\n",
      "The number is odd\n",
      "The number is even\n",
      "The number is odd\n",
      "The number is even\n",
      "The number is odd\n",
      "The number is even\n",
      "The number is odd\n",
      "The number is even\n"
     ]
    },
    {
     "data": {
      "text/plain": [
       "\u001b[36mnumbers\u001b[39m: \u001b[32mArray\u001b[39m[\u001b[32mInt\u001b[39m] = \u001b[33mArray\u001b[39m(\u001b[32m1\u001b[39m, \u001b[32m2\u001b[39m, \u001b[32m3\u001b[39m, \u001b[32m4\u001b[39m, \u001b[32m5\u001b[39m, \u001b[32m6\u001b[39m, \u001b[32m7\u001b[39m, \u001b[32m8\u001b[39m, \u001b[32m9\u001b[39m, \u001b[32m10\u001b[39m)"
      ]
     },
     "execution_count": 76,
     "metadata": {},
     "output_type": "execute_result"
    }
   ],
   "source": [
    "val numbers = Array(1,2,3,4,5,6,7,8,9,10)\n",
    "\n",
    "numbers.foreach{ number =>\n",
    "    // check for even/odd with \"==\"\n",
    "    if(number % 2 == 0){\n",
    "        println(\"The number is even\")\n",
    "    }\n",
    "    // scala uses ! for negative comparisons\n",
    "    else if(number % 2 != 0){\n",
    "        println(\"The number is odd\")\n",
    "    }\n",
    "    // final condition, not activated here \n",
    "    else{\n",
    "        println(\"Does not compute!\")\n",
    "    }\n",
    "}"
   ]
  },
  {
   "cell_type": "markdown",
   "metadata": {},
   "source": [
    "## Functions\n",
    "\n",
    "A simple function in Scala looks a bit like lambda expressions in other languages and can be defined like this:"
   ]
  },
  {
   "cell_type": "code",
   "execution_count": 77,
   "metadata": {},
   "outputs": [
    {
     "data": {
      "text/plain": [
       "\u001b[36maddTwoNumbers\u001b[39m: (\u001b[32mInt\u001b[39m, \u001b[32mInt\u001b[39m) => \u001b[32mInt\u001b[39m = ammonite.$sess.cmd76$Helper$$Lambda$2850/0x0000000800905a78@2ea8ff5a\n",
       "\u001b[36mres76_1\u001b[39m: \u001b[32mInt\u001b[39m = \u001b[32m9\u001b[39m"
      ]
     },
     "execution_count": 77,
     "metadata": {},
     "output_type": "execute_result"
    }
   ],
   "source": [
    "// think of => as \"yields\"\n",
    "val addTwoNumbers = (x: Int, y: Int) => x + y \n",
    "\n",
    "addTwoNumbers(4,5)"
   ]
  },
  {
   "cell_type": "markdown",
   "metadata": {},
   "source": [
    "Using def is for making a method (in this case of the main object)"
   ]
  },
  {
   "cell_type": "code",
   "execution_count": 78,
   "metadata": {},
   "outputs": [
    {
     "name": "stdout",
     "output_type": "stream",
     "text": [
      "Hello there, my name is Russ\n"
     ]
    },
    {
     "data": {
      "text/plain": [
       "defined \u001b[32mfunction\u001b[39m \u001b[36mintroduceYourself\u001b[39m"
      ]
     },
     "execution_count": 78,
     "metadata": {},
     "output_type": "execute_result"
    }
   ],
   "source": [
    "// notice there is a \":\" now \n",
    "def introduceYourself(name: String): Unit = {\n",
    "    println(s\"Hello there, my name is $name\") // note s + $ for string interpolation - we'll see this again\n",
    "}\n",
    "\n",
    "introduceYourself(\"Russ\")"
   ]
  },
  {
   "cell_type": "markdown",
   "metadata": {},
   "source": [
    "## Default Arguments\n",
    "\n",
    "Scala uses a Python-like default arguments to avoid method overloading (we use () because there is an arguments list in this function):"
   ]
  },
  {
   "cell_type": "code",
   "execution_count": 79,
   "metadata": {},
   "outputs": [
    {
     "name": "stdout",
     "output_type": "stream",
     "text": [
      "Hello there, my name is Bonnie\n",
      "Hello there, my name is NotBonnie\n"
     ]
    },
    {
     "data": {
      "text/plain": [
       "defined \u001b[32mfunction\u001b[39m \u001b[36mintroduceYourself\u001b[39m"
      ]
     },
     "execution_count": 79,
     "metadata": {},
     "output_type": "execute_result"
    }
   ],
   "source": [
    "// Simply add ' = \"Bonnie\"' and you're good to go\n",
    "def introduceYourself(name: String = \"Bonnie\"): Unit = {\n",
    "    println(s\"Hello there, my name is $name\")\n",
    "}\n",
    "\n",
    "introduceYourself() // defaults to Bonnie \n",
    "introduceYourself(\"NotBonnie\") // uses input we specify"
   ]
  },
  {
   "cell_type": "markdown",
   "metadata": {},
   "source": [
    "## Maps (Paired Data)\n"
   ]
  },
  {
   "cell_type": "code",
   "execution_count": 80,
   "metadata": {},
   "outputs": [
    {
     "name": "stdout",
     "output_type": "stream",
     "text": [
      "Pace\n"
     ]
    },
    {
     "data": {
      "text/html": [
       "<div class=\"jp-RenderedText\">\n",
       "<pre><code><span style=\"color: rgb(0, 187, 187)\"><span class=\"ansi-cyan-fg\">stars</span></span>: <span style=\"color: rgb(0, 187, 0)\"><span class=\"ansi-green-fg\">Map</span></span>[<span style=\"color: rgb(0, 187, 0)\"><span class=\"ansi-green-fg\">String</span></span>, <span style=\"color: rgb(0, 187, 0)\"><span class=\"ansi-green-fg\">String</span></span>] = <span style=\"color: yellow\"><span class=\"ansi-yellow-fg\">Map</span></span>(\n",
       "  <span style=\"color: rgb(0, 187, 0)\"><span class=\"ansi-green-fg\">&quot;Lee&quot;</span></span> -&gt; <span style=\"color: rgb(0, 187, 0)\"><span class=\"ansi-green-fg\">&quot;Pace&quot;</span></span>,\n",
       "  <span style=\"color: rgb(0, 187, 0)\"><span class=\"ansi-green-fg\">&quot;Kerry&quot;</span></span> -&gt; <span style=\"color: rgb(0, 187, 0)\"><span class=\"ansi-green-fg\">&quot;Bishe'&quot;</span></span>,\n",
       "  <span style=\"color: rgb(0, 187, 0)\"><span class=\"ansi-green-fg\">&quot;MaKenzie&quot;</span></span> -&gt; <span style=\"color: rgb(0, 187, 0)\"><span class=\"ansi-green-fg\">&quot;Davis&quot;</span></span>\n",
       ")</code></pre>\n",
       "</div>"
      ],
      "text/plain": [
       "\u001b[36mstars\u001b[39m: \u001b[32mMap\u001b[39m[\u001b[32mString\u001b[39m, \u001b[32mString\u001b[39m] = \u001b[33mMap\u001b[39m(\n",
       "  \u001b[32m\"Lee\"\u001b[39m -> \u001b[32m\"Pace\"\u001b[39m,\n",
       "  \u001b[32m\"Kerry\"\u001b[39m -> \u001b[32m\"Bishe'\"\u001b[39m,\n",
       "  \u001b[32m\"MaKenzie\"\u001b[39m -> \u001b[32m\"Davis\"\u001b[39m\n",
       ")"
      ]
     },
     "metadata": {},
     "output_type": "display_data"
    }
   ],
   "source": [
    "// store keys and values \n",
    "var stars = Map(\"Lee\" -> \"Pace\", \"Kerry\" -> \"Bishe'\", \"MaKenzie\" -> \"Davis\")\n",
    "// or\n",
    "// Map[String, String] = Map(\"Lee\" -> \"Pace\", \"Kerry\" -> \"Bishe'\", \"MaKenzie\" -> \"Davis\")\n",
    "\n",
    "println(stars(\"Lee\"))"
   ]
  },
  {
   "cell_type": "markdown",
   "metadata": {},
   "source": [
    "It is easy to add new entries:"
   ]
  },
  {
   "cell_type": "code",
   "execution_count": 81,
   "metadata": {},
   "outputs": [
    {
     "name": "stdout",
     "output_type": "stream",
     "text": [
      "Scoot McNairy\n",
      "Kerry Bishe'\n",
      "MaKenzie Davis\n",
      "Toby Huss\n",
      "Lee Pace\n"
     ]
    }
   ],
   "source": [
    "// the += syntax carries over\n",
    "stars += (\"Scoot\" -> \"McNairy\")\n",
    "stars += (\"Toby\"  -> \"Huss\")\n",
    "\n",
    "// using keys yields and array which also has \"foreach\"\n",
    "stars.keys.foreach{ actor =>\n",
    "    println(actor + \" \" + stars(actor))\n",
    "}"
   ]
  },
  {
   "cell_type": "markdown",
   "metadata": {},
   "source": [
    "There is also a \"values\" method:"
   ]
  },
  {
   "cell_type": "code",
   "execution_count": 82,
   "metadata": {},
   "outputs": [
    {
     "data": {
      "text/plain": [
       "\u001b[36mres81\u001b[39m: \u001b[32mIterable\u001b[39m[\u001b[32mString\u001b[39m] = \u001b[33mIterable\u001b[39m(\u001b[32m\"McNairy\"\u001b[39m, \u001b[32m\"Bishe'\"\u001b[39m, \u001b[32m\"Davis\"\u001b[39m, \u001b[32m\"Huss\"\u001b[39m, \u001b[32m\"Pace\"\u001b[39m)"
      ]
     },
     "execution_count": 82,
     "metadata": {},
     "output_type": "execute_result"
    }
   ],
   "source": [
    "stars.values"
   ]
  },
  {
   "cell_type": "markdown",
   "metadata": {},
   "source": [
    "It's also simple to reverse a mapped/paired structure using mapping:"
   ]
  },
  {
   "cell_type": "code",
   "execution_count": 83,
   "metadata": {},
   "outputs": [
    {
     "data": {
      "text/html": [
       "<div class=\"jp-RenderedText\">\n",
       "<pre><code><span style=\"color: rgb(0, 187, 187)\"><span class=\"ansi-cyan-fg\">reversedStars</span></span>: <span style=\"color: rgb(0, 187, 0)\"><span class=\"ansi-green-fg\">Map</span></span>[<span style=\"color: rgb(0, 187, 0)\"><span class=\"ansi-green-fg\">String</span></span>, <span style=\"color: rgb(0, 187, 0)\"><span class=\"ansi-green-fg\">String</span></span>] = <span style=\"color: yellow\"><span class=\"ansi-yellow-fg\">HashMap</span></span>(\n",
       "  <span style=\"color: rgb(0, 187, 0)\"><span class=\"ansi-green-fg\">&quot;Pace&quot;</span></span> -&gt; <span style=\"color: rgb(0, 187, 0)\"><span class=\"ansi-green-fg\">&quot;Lee&quot;</span></span>,\n",
       "  <span style=\"color: rgb(0, 187, 0)\"><span class=\"ansi-green-fg\">&quot;McNairy&quot;</span></span> -&gt; <span style=\"color: rgb(0, 187, 0)\"><span class=\"ansi-green-fg\">&quot;Scoot&quot;</span></span>,\n",
       "  <span style=\"color: rgb(0, 187, 0)\"><span class=\"ansi-green-fg\">&quot;Bishe'&quot;</span></span> -&gt; <span style=\"color: rgb(0, 187, 0)\"><span class=\"ansi-green-fg\">&quot;Kerry&quot;</span></span>,\n",
       "  <span style=\"color: rgb(0, 187, 0)\"><span class=\"ansi-green-fg\">&quot;Davis&quot;</span></span> -&gt; <span style=\"color: rgb(0, 187, 0)\"><span class=\"ansi-green-fg\">&quot;MaKenzie&quot;</span></span>,\n",
       "  <span style=\"color: rgb(0, 187, 0)\"><span class=\"ansi-green-fg\">&quot;Huss&quot;</span></span> -&gt; <span style=\"color: rgb(0, 187, 0)\"><span class=\"ansi-green-fg\">&quot;Toby&quot;</span></span>\n",
       ")</code></pre>\n",
       "</div>"
      ],
      "text/plain": [
       "\u001b[36mreversedStars\u001b[39m: \u001b[32mMap\u001b[39m[\u001b[32mString\u001b[39m, \u001b[32mString\u001b[39m] = \u001b[33mHashMap\u001b[39m(\n",
       "  \u001b[32m\"Pace\"\u001b[39m -> \u001b[32m\"Lee\"\u001b[39m,\n",
       "  \u001b[32m\"McNairy\"\u001b[39m -> \u001b[32m\"Scoot\"\u001b[39m,\n",
       "  \u001b[32m\"Bishe'\"\u001b[39m -> \u001b[32m\"Kerry\"\u001b[39m,\n",
       "  \u001b[32m\"Davis\"\u001b[39m -> \u001b[32m\"MaKenzie\"\u001b[39m,\n",
       "  \u001b[32m\"Huss\"\u001b[39m -> \u001b[32m\"Toby\"\u001b[39m\n",
       ")"
      ]
     },
     "metadata": {},
     "output_type": "display_data"
    }
   ],
   "source": [
    "// simply yield \"v\", \"k\", for every \"k\", \"v\"\n",
    "var reversedStars = for((k, v) <- stars) yield (v, k)"
   ]
  },
  {
   "cell_type": "markdown",
   "metadata": {},
   "source": [
    "## Object Oriented Programming\n",
    "We've mostly seen simple imperative programming and hints of Scala's functional origin but it also an Object Oriented language.\n",
    "\n",
    "### Case Classes\n",
    "The most simple version of OO Scala is the case class. While a bit foreign to Java folks, they are quite handy. Case classes are generally small, simple, immutable structures, like points on a graph. Let's define one:"
   ]
  },
  {
   "cell_type": "code",
   "execution_count": 84,
   "metadata": {},
   "outputs": [
    {
     "data": {
      "text/plain": [
       "defined \u001b[32mclass\u001b[39m \u001b[36mPoint\u001b[39m"
      ]
     },
     "execution_count": 84,
     "metadata": {},
     "output_type": "execute_result"
    }
   ],
   "source": [
    "// define a case class with an x and y value \n",
    "case class Point(x:Int, y:Int)"
   ]
  },
  {
   "cell_type": "markdown",
   "metadata": {},
   "source": [
    "That's it. It's disarmingly simple compared to a Java object, but it works. Part of this is because it assumes that you want immutable fields unless otherwise specified (part of the functional meets OO approach). Creating one is straightforward and largely familiar to Java folks:\n",
    "\n"
   ]
  },
  {
   "cell_type": "code",
   "execution_count": 85,
   "metadata": {},
   "outputs": [
    {
     "data": {
      "text/plain": [
       "\u001b[36mmyLocation\u001b[39m: \u001b[32mPoint\u001b[39m = \u001b[33mPoint\u001b[39m(\u001b[32m1\u001b[39m, \u001b[32m2\u001b[39m)\n",
       "\u001b[36mres84_1\u001b[39m: \u001b[32mInt\u001b[39m = \u001b[32m1\u001b[39m\n",
       "\u001b[36mres84_2\u001b[39m: \u001b[32mInt\u001b[39m = \u001b[32m2\u001b[39m"
      ]
     },
     "execution_count": 85,
     "metadata": {},
     "output_type": "execute_result"
    }
   ],
   "source": [
    "// make a new Point\n",
    "val myLocation = new Point(1,2)\n",
    "\n",
    "// access the members\n",
    "myLocation.x\n",
    "myLocation.y\n",
    "\n",
    "//// can't do this:\n",
    "// myLocation.x = 5\n",
    "//// unless it was defined like this, specifying they could vary\n",
    "// case class Point(var x:Int, var y:Int)"
   ]
  },
  {
   "cell_type": "markdown",
   "metadata": {},
   "source": [
    "### Traditional Classes\n",
    "\n",
    "We will make a simple Person class that has a private value (available only to the class) to represent its age and a String for a name. We will include methods for it to get older and to display the current age. Classes are public by default.\n",
    "\n"
   ]
  },
  {
   "cell_type": "code",
   "execution_count": 86,
   "metadata": {},
   "outputs": [
    {
     "name": "stdout",
     "output_type": "stream",
     "text": [
      "0\n",
      "1\n",
      "Abakus\n"
     ]
    },
    {
     "data": {
      "text/plain": [
       "defined \u001b[32mclass\u001b[39m \u001b[36mPerson\u001b[39m\n",
       "\u001b[36mrando\u001b[39m: \u001b[32mPerson\u001b[39m = ammonite.$sess.cmd85$Helper$Person@6162ffa6"
      ]
     },
     "execution_count": 86,
     "metadata": {},
     "output_type": "execute_result"
    }
   ],
   "source": [
    "// define a class\n",
    "class Person {\n",
    "    // set a field\n",
    "    private var age = 0\n",
    "    var name = \"\"\n",
    "    \n",
    "    // method to increase age\n",
    "    def getOlder { age += 1 }\n",
    "    \n",
    "    // method to say age\n",
    "    def sayAge { println(age) }\n",
    "}\n",
    "\n",
    "// make a new instance \n",
    "val rando = new Person\n",
    "\n",
    "// show age before and after method call \n",
    "rando.sayAge\n",
    "rando.getOlder\n",
    "rando.sayAge\n",
    "\n",
    "// give the person a name \n",
    "rando.name = \"Abakus\"\n",
    "println(rando.name)"
   ]
  },
  {
   "cell_type": "markdown",
   "metadata": {},
   "source": [
    "What if we wanted to make mandatory fields? We can include them in the parenthesis in a move that will look familiar to Python coders."
   ]
  },
  {
   "cell_type": "code",
   "execution_count": 87,
   "metadata": {},
   "outputs": [
    {
     "data": {
      "text/plain": [
       "defined \u001b[32mclass\u001b[39m \u001b[36mPerson\u001b[39m\n",
       "\u001b[36mkanye\u001b[39m: \u001b[32mPerson\u001b[39m = ammonite.$sess.cmd86$Helper$Person@360cbb22\n",
       "\u001b[36mres86_2\u001b[39m: \u001b[32mString\u001b[39m = \u001b[32m\"Kanye\"\u001b[39m\n",
       "\u001b[36mres86_3\u001b[39m: \u001b[32mInt\u001b[39m = \u001b[32m35\u001b[39m"
      ]
     },
     "execution_count": 87,
     "metadata": {},
     "output_type": "execute_result"
    }
   ],
   "source": [
    "// define a person with a name and an age\n",
    "class Person(val name: String, var age: Int)\n",
    "\n",
    "//// this would crash \"not enough arguments for constructor\":\n",
    "//> val kanye = new Person(name = \"Kanye\")\n",
    "///...because it doesn't have the arguments that we told it were needed.\n",
    "\n",
    "// make a new instance of the class named kanye\n",
    "val kanye = new Person(name = \"Kanye\", age = 35)\n",
    "\n",
    "// show values \n",
    "kanye.name\n",
    "kanye.age"
   ]
  },
  {
   "cell_type": "markdown",
   "metadata": {},
   "source": [
    "#### Constructors\n",
    "\n",
    "Constructors allow the writer to dictate behavior that takes place whenever an instance of the class is created (for the uninitiated, the footnotes of this page contain a brief explanation). It's common, for instance, for an object that reads a file to do so upon to construction. This saves the time of creating the object and then calling a method to have it read the file. In C++ and Java, the constructor is a method of the class that has the same name as the class. In Scala however, it just executes the code immediately inside the class definition. Let's take a look at a simple example:"
   ]
  },
  {
   "cell_type": "code",
   "execution_count": 88,
   "metadata": {},
   "outputs": [
    {
     "name": "stdout",
     "output_type": "stream",
     "text": [
      "I have been born and am alive!\n"
     ]
    },
    {
     "data": {
      "text/plain": [
       "defined \u001b[32mclass\u001b[39m \u001b[36mTinyHuman\u001b[39m\n",
       "\u001b[36mnewborn\u001b[39m: \u001b[32mTinyHuman\u001b[39m = ammonite.$sess.cmd87$Helper$TinyHuman@7e1bdf48"
      ]
     },
     "execution_count": 88,
     "metadata": {},
     "output_type": "execute_result"
    }
   ],
   "source": [
    "class TinyHuman {\n",
    "    // this is constructor behavior\n",
    "    println(\"I have been born and am alive!\")\n",
    "}\n",
    "\n",
    "// this will print it's greeting even thought we didn't call anything\n",
    "val newborn = new TinyHuman"
   ]
  },
  {
   "cell_type": "markdown",
   "metadata": {},
   "source": [
    "#### Getters and Setters\n",
    "\n",
    "Getters and Setters are built into classes by Scala (for the unfamiliar, the footnotes of this page contain a brief explanation). While this might seem wild, the programmer can control them using \"var\", \"val\", and the \"private\" keyword to restrict how they are used, allowing full control of the class. The auto-generator methods are \"foo\" and \"foo_\" in the Java Virtual Machine code made by compiling Scala."
   ]
  },
  {
   "cell_type": "code",
   "execution_count": 89,
   "metadata": {},
   "outputs": [
    {
     "data": {
      "text/plain": [
       "defined \u001b[32mclass\u001b[39m \u001b[36mYear\u001b[39m\n",
       "\u001b[36mthisYear\u001b[39m: \u001b[32mYear\u001b[39m = ammonite.$sess.cmd88$Helper$Year@182a8837\n",
       "\u001b[36mres88_2\u001b[39m: \u001b[32mInt\u001b[39m = \u001b[32m1\u001b[39m"
      ]
     },
     "execution_count": 89,
     "metadata": {},
     "output_type": "execute_result"
    }
   ],
   "source": [
    "class Year {\n",
    "    var month = 1 // starts in Jan \n",
    "}\n",
    "\n",
    "val thisYear = new Year()\n",
    "thisYear.month            // this will call the internal \"foo\", in this case, \"month\"\n",
    "thisYear.month = 2        // this calls the \"foo_\", in this case \"month_\""
   ]
  },
  {
   "cell_type": "markdown",
   "metadata": {},
   "source": [
    "Scala will also allow you to define \"foo\" and \"foo_\" yourself if you want to (or just foo).\n",
    "\n",
    "To make Scala write only a getter method declare that value with \"val\". Because vals cannot change, it will not bother with setter method.\n",
    "\n",
    "To make Scala create a getter and a setter, declare an attribute with \"var\" - an attribute that can change will require a getter and a setter."
   ]
  },
  {
   "cell_type": "markdown",
   "metadata": {},
   "source": [
    "#### Private Attributes\n",
    "Private attributes work in a Java-like way. Here, we use private to make an attribute that can be incremented by the user but not set to whatever they want as they can't access it directly:"
   ]
  },
  {
   "cell_type": "code",
   "execution_count": 90,
   "metadata": {},
   "outputs": [
    {
     "name": "stdout",
     "output_type": "stream",
     "text": [
      "2\n"
     ]
    },
    {
     "data": {
      "text/plain": [
       "defined \u001b[32mclass\u001b[39m \u001b[36mYear\u001b[39m\n",
       "\u001b[36mnow\u001b[39m: \u001b[32mYear\u001b[39m = ammonite.$sess.cmd89$Helper$Year@33d58403"
      ]
     },
     "execution_count": 90,
     "metadata": {},
     "output_type": "execute_result"
    }
   ],
   "source": [
    "class Year {\n",
    "    private var month = 1\n",
    "    def incrementMonth { month += 1 }\n",
    "    def showCurrentMonth = println(month)\n",
    "}\n",
    "\n",
    "val now = new Year\n",
    "\n",
    "now.incrementMonth\n",
    "now.showCurrentMonth"
   ]
  },
  {
   "cell_type": "markdown",
   "metadata": {},
   "source": [
    "#### Constructors\n",
    "Scala generates a standard constructor for all the classes you define.\n",
    "\n",
    "We can do so using what Scala calls a \"Primary Constructor\". This is like a constructor in other languages except that is is implicitly created as part of the class definition."
   ]
  },
  {
   "cell_type": "code",
   "execution_count": 91,
   "metadata": {},
   "outputs": [
    {
     "name": "stdout",
     "output_type": "stream",
     "text": [
      "I am alive!\n",
      "I have a constructor and it is the best!\n"
     ]
    },
    {
     "data": {
      "text/plain": [
       "defined \u001b[32mclass\u001b[39m \u001b[36mChild\u001b[39m\n",
       "\u001b[36mkiddie\u001b[39m: \u001b[32mChild\u001b[39m = ammonite.$sess.cmd90$Helper$Child@965084a"
      ]
     },
     "execution_count": 91,
     "metadata": {},
     "output_type": "execute_result"
    }
   ],
   "source": [
    "class Child {\n",
    "    println(\"I am alive!\")\n",
    "    println(\"I have a constructor and it is the best!\")\n",
    "}\n",
    "\n",
    "// the message will just occur\n",
    "val kiddie = new Child"
   ]
  },
  {
   "cell_type": "markdown",
   "metadata": {},
   "source": [
    "#### Inheritance\n",
    "\n",
    "Scala provides a predictable means of single inheritance (Like Java, Scala does not implement multiple inheritance)."
   ]
  },
  {
   "cell_type": "code",
   "execution_count": 92,
   "metadata": {},
   "outputs": [
    {
     "name": "stdout",
     "output_type": "stream",
     "text": [
      "I say the damnest things\n"
     ]
    },
    {
     "data": {
      "text/plain": [
       "defined \u001b[32mclass\u001b[39m \u001b[36mKid\u001b[39m\n",
       "defined \u001b[32mclass\u001b[39m \u001b[36mPreTeen\u001b[39m\n",
       "\u001b[36mnewKid\u001b[39m: \u001b[32mPreTeen\u001b[39m = ammonite.$sess.cmd91$Helper$PreTeen@a4d13c1"
      ]
     },
     "execution_count": 92,
     "metadata": {},
     "output_type": "execute_result"
    }
   ],
   "source": [
    "// class and method definition in a single line?\n",
    "class Kid { def talk(): Unit = { println(\"I say the damnest things\") }}\n",
    "\n",
    "class PreTeen extends Kid{}\n",
    "\n",
    "// will automatically have the method from Kid even though it is a preteen\n",
    "val newKid = new PreTeen\n",
    "\n",
    "newKid.talk"
   ]
  },
  {
   "cell_type": "markdown",
   "metadata": {},
   "source": [
    "Java coders: note that Scala constructors do not require the use of super(), though the languages does support it for access superclass methods in general and it is used the same way as in Java.\n",
    "\n",
    "#### Composition\n",
    "\n",
    "Scala offers \"mixins\" for composing classes based on functionality.\n"
   ]
  },
  {
   "cell_type": "code",
   "execution_count": 93,
   "metadata": {},
   "outputs": [
    {
     "name": "stdout",
     "output_type": "stream",
     "text": [
      "I am a lover!\n",
      "I am a fighter!\n",
      "I am Zoro!\n"
     ]
    },
    {
     "data": {
      "text/plain": [
       "defined \u001b[32mtrait\u001b[39m \u001b[36mlover\u001b[39m\n",
       "defined \u001b[32mtrait\u001b[39m \u001b[36mfighter\u001b[39m\n",
       "defined \u001b[32mclass\u001b[39m \u001b[36mrouge\u001b[39m\n",
       "\u001b[36mzoro\u001b[39m: \u001b[32mrouge\u001b[39m = ammonite.$sess.cmd92$Helper$rouge@22a12e9e"
      ]
     },
     "execution_count": 93,
     "metadata": {},
     "output_type": "execute_result"
    }
   ],
   "source": [
    "// define a lover that loves\n",
    "trait lover {\n",
    "  def love(): Unit = {\n",
    "    println(\"I am a lover!\")\n",
    "  }\n",
    "}\n",
    "\n",
    "// define a fighter that fights \n",
    "trait fighter {\n",
    "  def fight(): Unit = {\n",
    "    println(\"I am a fighter!\")\n",
    "  }\n",
    "}\n",
    "\n",
    "// mix them together to make a rouge \n",
    "class rouge(name: String) extends lover with fighter {\n",
    "  // the rouge can call both of methods from the mixins\n",
    "  def enGarde(): Unit = {\n",
    "    love\n",
    "    fight\n",
    "    println(\"I am \" + name + \"!\")\n",
    "  }\n",
    "}\n",
    "\n",
    "val zoro = new rouge(\"Zoro\")            // make a new rouge\n",
    "zoro.enGarde                            // put foes on notice!"
   ]
  },
  {
   "cell_type": "markdown",
   "metadata": {},
   "source": [
    "#### Overriding a method\n",
    "\n",
    "Scala supports the \"override\" keyword to specify a new method behavior. Let's make a subspecies of Rouge with his own enGarde() protocol:"
   ]
  },
  {
   "cell_type": "code",
   "execution_count": 94,
   "metadata": {},
   "outputs": [
    {
     "name": "stdout",
     "output_type": "stream",
     "text": [
      "I am a lover!\n",
      "I am a fighter!\n",
      "I am Inigo Montoya Prepare to die!\n"
     ]
    },
    {
     "data": {
      "text/plain": [
       "defined \u001b[32mclass\u001b[39m \u001b[36mrevengeSeeker\u001b[39m\n",
       "\u001b[36minigo\u001b[39m: \u001b[32mrevengeSeeker\u001b[39m = ammonite.$sess.cmd93$Helper$revengeSeeker@4b5258dc"
      ]
     },
     "execution_count": 94,
     "metadata": {},
     "output_type": "execute_result"
    }
   ],
   "source": [
    "class revengeSeeker(name: String, warning: String) extends rouge(name) {\n",
    "  // override the definition of enGarge\n",
    "  override def enGarde(): Unit = {                                        \n",
    "    love \n",
    "    fight\n",
    "    println(\"I am \" + name + \" \" + warning)\n",
    "  }\n",
    "}\n",
    "\n",
    "val inigo = new revengeSeeker(name = \"Inigo Montoya\", warning = \"Prepare to die!\")\n",
    "inigo.enGarde"
   ]
  },
  {
   "cell_type": "markdown",
   "metadata": {},
   "source": [
    "## Footnotes\n",
    "\n",
    "What's a Constructor?\n",
    "\n",
    "For the unfamiliar, a constructor is a special method that activates when a class is created. They keep the user from having to specify behavior for each object created after it is initialized.\n",
    "\n",
    "##  What are Getters and Setters?\n",
    "\n",
    "Getters and Setters are worth a discussion in their own right, but for a working knowledge, they are methods to access or change object attributes. They are used when there is a reason to conceal the traits from the end-user. A good example of when to use a Getter would be in a class where a Person class with and \"age\" attribute that should not be able to get younger (as provided in \"Scala for the Impatient\"). It's easy for the programmer of the class to write code to keep the age from running if it doesn't fit the criteria designated by the Setter."
   ]
  }
 ],
 "metadata": {
  "kernelspec": {
   "display_name": "Scala",
   "language": "scala",
   "name": "scala"
  },
  "language_info": {
   "codemirror_mode": "text/x-scala",
   "file_extension": ".sc",
   "mimetype": "text/x-scala",
   "name": "scala",
   "nbconvert_exporter": "script",
   "version": "2.13.3"
  },
  "orig_nbformat": 4,
  "vscode": {
   "interpreter": {
    "hash": "e7370f93d1d0cde622a1f8e1c04877d8463912d04d973331ad4851f04de6915a"
   }
  }
 },
 "nbformat": 4,
 "nbformat_minor": 2
}
