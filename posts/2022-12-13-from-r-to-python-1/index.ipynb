{
  "cells": [
    {
      "cell_type": "raw",
      "metadata": {},
      "source": [
        "---\n",
        "author: Thadryan\n",
        "title: \"Stats Python in a Hurry Part 1: Data Wrangling\"\n",
        "date: 2022-12-11\n",
        "description: Transferring my R data-munging knowledge back to my first language.\n",
        "bibliography: Part1.bib\n",
        "toc: true\n",
        "---"
      ],
      "id": "e04378bc"
    },
    {
      "cell_type": "markdown",
      "metadata": {},
      "source": [
        "> update: 12-17-22 - added sorting and table.\n",
        "\n",
        "# Data Manipulation \n"
      ],
      "id": "ee48ce5f"
    },
    {
      "cell_type": "code",
      "metadata": {},
      "source": [
        "import pandas as pd\n",
        "import numpy as np\n",
        "import statsmodels.api as sm"
      ],
      "id": "79cd9f8b",
      "execution_count": null,
      "outputs": []
    },
    {
      "cell_type": "code",
      "metadata": {},
      "source": [
        "# get a practice dataset\n",
        "df = sm.datasets.get_rdataset(\"mtcars\", \"datasets\", cache = True).data\n",
        "\n",
        "df.head()"
      ],
      "id": "e5855345",
      "execution_count": null,
      "outputs": []
    },
    {
      "cell_type": "markdown",
      "metadata": {},
      "source": [
        "## Basics\n",
        "\n",
        "How to get basic information about the df.\n",
        "\n",
        "### Dimensions of a df\n",
        "\n",
        "This is like `dim` in R.\n"
      ],
      "id": "4187f70c"
    },
    {
      "cell_type": "code",
      "metadata": {},
      "source": [
        "# rows by columns \n",
        "df.shape"
      ],
      "id": "e14ed778",
      "execution_count": null,
      "outputs": []
    },
    {
      "cell_type": "markdown",
      "metadata": {},
      "source": [
        "### Number of rows\n",
        "\n",
        "This is like `nrow` in R.\n"
      ],
      "id": "823f434e"
    },
    {
      "cell_type": "code",
      "metadata": {},
      "source": [
        "# just the rows\n",
        "len(df)"
      ],
      "id": "a517d980",
      "execution_count": null,
      "outputs": []
    },
    {
      "cell_type": "markdown",
      "metadata": {},
      "source": [
        "### Number of columns\n",
        "\n",
        "This is like `ncol` in R.\n"
      ],
      "id": "92530234"
    },
    {
      "cell_type": "code",
      "metadata": {},
      "source": [
        "# just the columns\n",
        "len(df.columns)"
      ],
      "id": "b5b6ff30",
      "execution_count": null,
      "outputs": []
    },
    {
      "cell_type": "markdown",
      "metadata": {},
      "source": [
        "You could also just index the results of `df.shape`.\n",
        "\n",
        "### Data types\n"
      ],
      "id": "855f96a8"
    },
    {
      "cell_type": "code",
      "metadata": {},
      "source": [
        "# a summary of types by column\n",
        "df.info()"
      ],
      "id": "9f494d00",
      "execution_count": null,
      "outputs": []
    },
    {
      "cell_type": "markdown",
      "metadata": {},
      "source": [
        "### Summary\n"
      ],
      "id": "a5d6327f"
    },
    {
      "cell_type": "code",
      "metadata": {},
      "source": [
        "# summary of distributional information\n",
        "df.describe()"
      ],
      "id": "39943cfe",
      "execution_count": null,
      "outputs": []
    },
    {
      "cell_type": "markdown",
      "metadata": {},
      "source": [
        "## Selections\n",
        "\n",
        "How to specify which column you want.\n",
        "\n",
        "### Select a column\n",
        "\n",
        "Note that I'm using `head()` to get the first few rows to keep the output small. It's not part of the selection of columns.\n"
      ],
      "id": "7b2a0c57"
    },
    {
      "cell_type": "code",
      "metadata": {},
      "source": [
        "# access a single column like an object property\n",
        "df.mpg.head()"
      ],
      "id": "c8f8296f",
      "execution_count": null,
      "outputs": []
    },
    {
      "cell_type": "markdown",
      "metadata": {},
      "source": [
        "Or...\n"
      ],
      "id": "50eaefbe"
    },
    {
      "cell_type": "code",
      "metadata": {},
      "source": [
        "# select a column (as a series)\n",
        "df[\"mpg\"].head()"
      ],
      "id": "797a8f1f",
      "execution_count": null,
      "outputs": []
    },
    {
      "cell_type": "code",
      "metadata": {},
      "source": [
        "# select column (as a dataframe)\n",
        "df[[\"mpg\"]].head()"
      ],
      "id": "7d31f304",
      "execution_count": null,
      "outputs": []
    },
    {
      "cell_type": "markdown",
      "metadata": {},
      "source": [
        "### Select several columns by string name\n"
      ],
      "id": "a4f63a17"
    },
    {
      "cell_type": "code",
      "metadata": {},
      "source": [
        "# select a column by several names\n",
        "df[[\"mpg\", \"wt\"]].head()"
      ],
      "id": "e76bfda8",
      "execution_count": null,
      "outputs": []
    },
    {
      "cell_type": "markdown",
      "metadata": {},
      "source": [
        "### Select from one column through another with names\n"
      ],
      "id": "fa534bfe"
    },
    {
      "cell_type": "code",
      "metadata": {},
      "source": [
        "# select a range by name of start and end \"mph through hp\"\n",
        "df.loc[:, \"mpg\":\"hp\"].head()"
      ],
      "id": "7512e88c",
      "execution_count": null,
      "outputs": []
    },
    {
      "cell_type": "markdown",
      "metadata": {},
      "source": [
        "### Select arbitrarily\n",
        "\n",
        "How to get based on a condition of your choosing. We might want to get only columns that start with \"d\", for example.\n"
      ],
      "id": "dbd65c81"
    },
    {
      "cell_type": "code",
      "metadata": {},
      "source": [
        "# get a list\n",
        "starts_with_d = [i for i in list(df.columns) if i.startswith(\"d\")]\n",
        "\n",
        "# pass the list to pandas\n",
        "df[starts_with_d].head()"
      ],
      "id": "205da10f",
      "execution_count": null,
      "outputs": []
    },
    {
      "cell_type": "markdown",
      "metadata": {},
      "source": [
        "## Filtering\n",
        "\n",
        "Operations where we'd used `dplyr` in R. In Pandas, filtering refers to operations by index, so what I'm thinking of is more like \"querying\" in Pandas terms.\n",
        "\n",
        "### Single condition\n",
        "\n",
        "Pass logic in strings to the `query` method.\n"
      ],
      "id": "926cbfd7"
    },
    {
      "cell_type": "code",
      "metadata": {},
      "source": [
        "df.query(\"cyl == 6\")"
      ],
      "id": "f56e4fdc",
      "execution_count": null,
      "outputs": []
    },
    {
      "cell_type": "markdown",
      "metadata": {},
      "source": [
        "### Multiple conditions\n"
      ],
      "id": "d37324bf"
    },
    {
      "cell_type": "code",
      "metadata": {},
      "source": [
        "df.query(\"cyl == 6 & hp > 105\")"
      ],
      "id": "a503c7a0",
      "execution_count": null,
      "outputs": []
    },
    {
      "cell_type": "markdown",
      "metadata": {},
      "source": [
        "## Sorting\n",
        "\n",
        "### Ascending\n"
      ],
      "id": "4ef6741f"
    },
    {
      "cell_type": "code",
      "metadata": {},
      "source": [
        "df.mpg.sort_values().head(10)"
      ],
      "id": "dedd1847",
      "execution_count": null,
      "outputs": []
    },
    {
      "cell_type": "markdown",
      "metadata": {},
      "source": [
        "### Descending\n",
        "\n",
        "There is no 'descending' per se, just set `ascending` to False.\n"
      ],
      "id": "0e4b2541"
    },
    {
      "cell_type": "code",
      "metadata": {},
      "source": [
        "df.mpg.sort_values(ascending = False).head(10)"
      ],
      "id": "92df784b",
      "execution_count": null,
      "outputs": []
    },
    {
      "cell_type": "markdown",
      "metadata": {},
      "source": [
        "## Applying functions\n",
        "\n",
        "### Map a function with no arguments to a single column\n"
      ],
      "id": "babac00c"
    },
    {
      "cell_type": "code",
      "metadata": {},
      "source": [
        "# some function to apply\n",
        "def increment(x):\n",
        "    return x+1\n",
        "\n",
        "# could also be done as a lambda expression\n",
        "df[\"ApplyResult\"] = df.mpg.map(increment)\n",
        "\n",
        "df[[\"mpg\", \"ApplyResult\"]].head()"
      ],
      "id": "b3684109",
      "execution_count": null,
      "outputs": []
    },
    {
      "cell_type": "markdown",
      "metadata": {},
      "source": [
        "### Apply a function with arguments using kwargs \n"
      ],
      "id": "2fe43435"
    },
    {
      "cell_type": "code",
      "metadata": {},
      "source": [
        "# some function yadda\n",
        "def incrementBy(x, by):\n",
        "    return x + by\n",
        "\n",
        "# could also be done as a lambda expression\n",
        "df[\"ApplyResult\"] = df.mpg.apply(incrementBy, by = 5)\n",
        "\n",
        "df[[\"mpg\", \"ApplyResult\"]].head()"
      ],
      "id": "0a17c3ff",
      "execution_count": null,
      "outputs": []
    },
    {
      "cell_type": "markdown",
      "metadata": {},
      "source": [
        "## Missing values\n",
        "\n",
        "Expanding on an example from [here](https://datatofish.com/check-nan-pandas-dataframe/). Pandas uses `np.nan` instead of `NA`.\n"
      ],
      "id": "668dd3f2"
    },
    {
      "cell_type": "code",
      "metadata": {},
      "source": [
        "df2 = pd.DataFrame({\n",
        "    \"x\": [1,2,3,4,5,np.nan,7,8,np.nan,10,11,12,np.nan],\n",
        "    \"y\": [1,np.nan,3,4,5,6,np.nan,8,9,10,11,12,13]\n",
        "})\n",
        "df2"
      ],
      "id": "4b5f3780",
      "execution_count": null,
      "outputs": []
    },
    {
      "cell_type": "markdown",
      "metadata": {},
      "source": [
        "### Missing in the whole df\n"
      ],
      "id": "2154aed5"
    },
    {
      "cell_type": "code",
      "metadata": {},
      "source": [
        "# no NA the whole thing\n",
        "df2.isnull()"
      ],
      "id": "89a70b6a",
      "execution_count": null,
      "outputs": []
    },
    {
      "cell_type": "markdown",
      "metadata": {},
      "source": [
        "### Missing in a single column\n"
      ],
      "id": "71db5eaa"
    },
    {
      "cell_type": "code",
      "metadata": {},
      "source": [
        "# just the x column\n",
        "df2.x.isnull()"
      ],
      "id": "d615c7c9",
      "execution_count": null,
      "outputs": []
    },
    {
      "cell_type": "markdown",
      "metadata": {},
      "source": [
        "### Replace NAs in a column\n"
      ],
      "id": "34708cab"
    },
    {
      "cell_type": "code",
      "metadata": {},
      "source": [
        "# use the fillna function \n",
        "df2.x = df2.x.fillna(\"MISSING\")\n",
        "df2"
      ],
      "id": "9c3026f7",
      "execution_count": null,
      "outputs": []
    },
    {
      "cell_type": "markdown",
      "metadata": {},
      "source": [
        "### Replace the NAs in the full dataset\n"
      ],
      "id": "aaedc09b"
    },
    {
      "cell_type": "code",
      "metadata": {},
      "source": [
        "# files the other even though I didn't specify a column\n",
        "df2.fillna(\"MISSING!!!\")"
      ],
      "id": "cb940c69",
      "execution_count": null,
      "outputs": []
    },
    {
      "cell_type": "markdown",
      "metadata": {},
      "source": [
        "### Drop NAs\n",
        "\n",
        "The [official docs](https://pandas.pydata.org/pandas-docs/stable/reference/api/pandas.DataFrame.dropna.html) are great on this.\n"
      ],
      "id": "2f6a981c"
    },
    {
      "cell_type": "code",
      "metadata": {},
      "source": [
        "# create another sample df\n",
        "df3 = pd.DataFrame({\n",
        "    \"x\": [1,np.nan,3,4,5,np.nan,np.nan,8,np.nan,10,11,12,np.nan],\n",
        "    \"y\": [1,np.nan,3,4,5,6,np.nan,8,9,10,11,12,np.nan],\n",
        "    \"z\": [1,2,np.nan,4,5,6,np.nan,8,9,10,11,12,np.nan]\n",
        "})\n",
        "df3"
      ],
      "id": "2356b7c9",
      "execution_count": null,
      "outputs": []
    },
    {
      "cell_type": "markdown",
      "metadata": {},
      "source": [
        "#### Drop all across the df\n"
      ],
      "id": "026cbe20"
    },
    {
      "cell_type": "code",
      "metadata": {},
      "source": [
        "# no NAs period \n",
        "df3.dropna()"
      ],
      "id": "7b4884ee",
      "execution_count": null,
      "outputs": []
    },
    {
      "cell_type": "markdown",
      "metadata": {},
      "source": [
        "#### Drop if they're all na in that row\n"
      ],
      "id": "86537538"
    },
    {
      "cell_type": "code",
      "metadata": {},
      "source": [
        "# drop if the whole row is NA\n",
        "df3.dropna(how = \"all\")"
      ],
      "id": "756d1f76",
      "execution_count": null,
      "outputs": []
    },
    {
      "cell_type": "markdown",
      "metadata": {},
      "source": [
        "#### Drop all in certain columns\n",
        "\n",
        "This is so clutch! Much simpler than filtering across in R (though there might be a cleaner way for that)\n"
      ],
      "id": "7388a396"
    },
    {
      "cell_type": "code",
      "metadata": {},
      "source": [
        "df3.dropna(subset = [\"x\", \"y\"])"
      ],
      "id": "2f8b1c5d",
      "execution_count": null,
      "outputs": []
    },
    {
      "cell_type": "markdown",
      "metadata": {},
      "source": [
        "## Group & Summarize\n",
        "\n",
        "### Group by a factor level\n"
      ],
      "id": "fb37ebca"
    },
    {
      "cell_type": "code",
      "metadata": {},
      "source": [
        "df[[\"mpg\", \"disp\", \"cyl\"]].groupby(by = \"cyl\")"
      ],
      "id": "b53e3c2d",
      "execution_count": null,
      "outputs": []
    },
    {
      "cell_type": "markdown",
      "metadata": {},
      "source": [
        "### Groupby factor level and get the mean\n"
      ],
      "id": "b0d59b42"
    },
    {
      "cell_type": "code",
      "metadata": {},
      "source": [
        "df[[\"mpg\", \"disp\", \"cyl\"]].groupby(by = \"cyl\").mean()"
      ],
      "id": "556c28a7",
      "execution_count": null,
      "outputs": []
    },
    {
      "cell_type": "markdown",
      "metadata": {},
      "source": [
        "## Melting a DataFrame\n"
      ],
      "id": "09b5d4b7"
    },
    {
      "cell_type": "code",
      "metadata": {},
      "source": [
        "# use the melt function specifying ids and value vars\n",
        "df_long = pd.melt(df, id_vars = \"cyl\", value_vars = [\"mpg\", \"wt\"])\n",
        "df_long"
      ],
      "id": "063edb15",
      "execution_count": null,
      "outputs": []
    },
    {
      "cell_type": "markdown",
      "metadata": {},
      "source": [
        "## Misc\n",
        "\n",
        "### Counts of values (like `table` in R)\n"
      ],
      "id": "8b642c01"
    },
    {
      "cell_type": "code",
      "metadata": {},
      "source": [
        "# shows how many there are of each factor\n",
        "df.cyl.value_counts()"
      ],
      "id": "04785a61",
      "execution_count": null,
      "outputs": []
    },
    {
      "cell_type": "markdown",
      "metadata": {},
      "source": [
        "### Formatting long chains\n"
      ],
      "id": "0fb5bcd3"
    },
    {
      "cell_type": "code",
      "metadata": {},
      "source": [
        "# a little ugly but it works\n",
        "df[[\"mpg\", \"disp\", \"cyl\"]].\\\n",
        "    query(\"cyl > 4\").\\\n",
        "    groupby(by = \"cyl\").\\\n",
        "    mean()"
      ],
      "id": "d837460f",
      "execution_count": null,
      "outputs": []
    },
    {
      "cell_type": "markdown",
      "metadata": {},
      "source": [
        "### Iterating over a df\n",
        "\n",
        "For mutating the dataframe apply/map is recommended, but I'm showing how to do this for completeness.\n"
      ],
      "id": "6abbce62"
    },
    {
      "cell_type": "code",
      "metadata": {},
      "source": [
        "for i, j in df.iterrows():\n",
        "    print(df[\"mpg\"][i])\n",
        "    # j would give you all the columns with just that row"
      ],
      "id": "afd889c0",
      "execution_count": null,
      "outputs": []
    },
    {
      "cell_type": "markdown",
      "metadata": {},
      "source": [
        "https://www.statsmodels.org/stable/examples/notebooks/generated/glm.html\n",
        "https://www.geeksforgeeks.org/linear-regression-in-python-using-statsmodels/\n",
        "https://datagy.io/pandas-iterate-over-rows/\n",
        "https://pandas.pydata.org/pandas-docs/stable/getting_started/comparison/comparison_with_r.html"
      ],
      "id": "1b908bb0"
    }
  ],
  "metadata": {
    "kernelspec": {
      "name": "python3",
      "language": "python",
      "display_name": "Python 3 (ipykernel)"
    }
  },
  "nbformat": 4,
  "nbformat_minor": 5
}